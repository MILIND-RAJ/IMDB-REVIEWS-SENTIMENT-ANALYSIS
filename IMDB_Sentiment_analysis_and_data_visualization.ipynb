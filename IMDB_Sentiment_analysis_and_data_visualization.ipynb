{
  "nbformat": 4,
  "nbformat_minor": 0,
  "metadata": {
    "colab": {
      "name": "IMDB Sentiment analysis and data visualization.ipynb",
      "provenance": []
    },
    "kernelspec": {
      "name": "python3",
      "display_name": "Python 3"
    },
    "language_info": {
      "name": "python"
    }
  },
  "cells": [
    {
      "cell_type": "code",
      "metadata": {
        "id": "lbtjHFwg-vyf"
      },
      "source": [
        "from bs4 import BeautifulSoup\n",
        "import nltk\n",
        "from nltk.corpus import stopwords\n",
        "import re"
      ],
      "execution_count": 1,
      "outputs": []
    },
    {
      "cell_type": "code",
      "metadata": {
        "id": "sxVPPu4pAs_P"
      },
      "source": [
        "import pandas as pd\n",
        "df=pd.read_csv('/content/IMDB Dataset.csv')"
      ],
      "execution_count": 3,
      "outputs": []
    },
    {
      "cell_type": "code",
      "metadata": {
        "colab": {
          "base_uri": "https://localhost:8080/",
          "height": 195
        },
        "id": "UkDfme_sCS4E",
        "outputId": "a01fc976-35f8-4216-db63-c788725d59df"
      },
      "source": [
        "df.head()"
      ],
      "execution_count": 4,
      "outputs": [
        {
          "output_type": "execute_result",
          "data": {
            "text/html": [
              "<div>\n",
              "<style scoped>\n",
              "    .dataframe tbody tr th:only-of-type {\n",
              "        vertical-align: middle;\n",
              "    }\n",
              "\n",
              "    .dataframe tbody tr th {\n",
              "        vertical-align: top;\n",
              "    }\n",
              "\n",
              "    .dataframe thead th {\n",
              "        text-align: right;\n",
              "    }\n",
              "</style>\n",
              "<table border=\"1\" class=\"dataframe\">\n",
              "  <thead>\n",
              "    <tr style=\"text-align: right;\">\n",
              "      <th></th>\n",
              "      <th>review</th>\n",
              "      <th>sentiment</th>\n",
              "    </tr>\n",
              "  </thead>\n",
              "  <tbody>\n",
              "    <tr>\n",
              "      <th>0</th>\n",
              "      <td>One of the other reviewers has mentioned that ...</td>\n",
              "      <td>positive</td>\n",
              "    </tr>\n",
              "    <tr>\n",
              "      <th>1</th>\n",
              "      <td>A wonderful little production. &lt;br /&gt;&lt;br /&gt;The...</td>\n",
              "      <td>positive</td>\n",
              "    </tr>\n",
              "    <tr>\n",
              "      <th>2</th>\n",
              "      <td>I thought this was a wonderful way to spend ti...</td>\n",
              "      <td>positive</td>\n",
              "    </tr>\n",
              "    <tr>\n",
              "      <th>3</th>\n",
              "      <td>Basically there's a family where a little boy ...</td>\n",
              "      <td>negative</td>\n",
              "    </tr>\n",
              "    <tr>\n",
              "      <th>4</th>\n",
              "      <td>Petter Mattei's \"Love in the Time of Money\" is...</td>\n",
              "      <td>positive</td>\n",
              "    </tr>\n",
              "  </tbody>\n",
              "</table>\n",
              "</div>"
            ],
            "text/plain": [
              "                                              review sentiment\n",
              "0  One of the other reviewers has mentioned that ...  positive\n",
              "1  A wonderful little production. <br /><br />The...  positive\n",
              "2  I thought this was a wonderful way to spend ti...  positive\n",
              "3  Basically there's a family where a little boy ...  negative\n",
              "4  Petter Mattei's \"Love in the Time of Money\" is...  positive"
            ]
          },
          "metadata": {
            "tags": []
          },
          "execution_count": 4
        }
      ]
    },
    {
      "cell_type": "code",
      "metadata": {
        "colab": {
          "base_uri": "https://localhost:8080/"
        },
        "id": "J9ss7x2yCfrC",
        "outputId": "71f71a74-2423-4796-9e30-0da230c8729b"
      },
      "source": [
        "import nltk\n",
        "nltk.download('stopwords')"
      ],
      "execution_count": 6,
      "outputs": [
        {
          "output_type": "stream",
          "text": [
            "[nltk_data] Downloading package stopwords to /root/nltk_data...\n",
            "[nltk_data]   Unzipping corpora/stopwords.zip.\n"
          ],
          "name": "stdout"
        },
        {
          "output_type": "execute_result",
          "data": {
            "text/plain": [
              "True"
            ]
          },
          "metadata": {
            "tags": []
          },
          "execution_count": 6
        }
      ]
    },
    {
      "cell_type": "code",
      "metadata": {
        "id": "86V6lqqaANEp"
      },
      "source": [
        "def clean_text( raw_review ):\n",
        "    review_text = BeautifulSoup(raw_review).get_text()       \n",
        "    letters_only = re.sub(\"[^a-zA-Z]\", \" \", review_text) \n",
        "    words = letters_only.lower().split()                             \n",
        "    stops = set(stopwords.words(\"english\"))                  \n",
        "    meaningful_words = [w for w in words if not w in stops]   \n",
        "    return( \" \".join( meaningful_words ))"
      ],
      "execution_count": 7,
      "outputs": []
    },
    {
      "cell_type": "code",
      "metadata": {
        "id": "wYFwbzNFAehs"
      },
      "source": [
        "df['cleaned_text'] = df.review.apply(lambda x: clean_text(x))"
      ],
      "execution_count": 8,
      "outputs": []
    },
    {
      "cell_type": "code",
      "metadata": {
        "colab": {
          "base_uri": "https://localhost:8080/",
          "height": 402
        },
        "id": "010xj1jmCbXi",
        "outputId": "43410229-309c-494e-bd28-116bd9e23540"
      },
      "source": [
        "df"
      ],
      "execution_count": 9,
      "outputs": [
        {
          "output_type": "execute_result",
          "data": {
            "text/html": [
              "<div>\n",
              "<style scoped>\n",
              "    .dataframe tbody tr th:only-of-type {\n",
              "        vertical-align: middle;\n",
              "    }\n",
              "\n",
              "    .dataframe tbody tr th {\n",
              "        vertical-align: top;\n",
              "    }\n",
              "\n",
              "    .dataframe thead th {\n",
              "        text-align: right;\n",
              "    }\n",
              "</style>\n",
              "<table border=\"1\" class=\"dataframe\">\n",
              "  <thead>\n",
              "    <tr style=\"text-align: right;\">\n",
              "      <th></th>\n",
              "      <th>review</th>\n",
              "      <th>sentiment</th>\n",
              "      <th>cleaned_text</th>\n",
              "    </tr>\n",
              "  </thead>\n",
              "  <tbody>\n",
              "    <tr>\n",
              "      <th>0</th>\n",
              "      <td>One of the other reviewers has mentioned that ...</td>\n",
              "      <td>positive</td>\n",
              "      <td>one reviewers mentioned watching oz episode ho...</td>\n",
              "    </tr>\n",
              "    <tr>\n",
              "      <th>1</th>\n",
              "      <td>A wonderful little production. &lt;br /&gt;&lt;br /&gt;The...</td>\n",
              "      <td>positive</td>\n",
              "      <td>wonderful little production filming technique ...</td>\n",
              "    </tr>\n",
              "    <tr>\n",
              "      <th>2</th>\n",
              "      <td>I thought this was a wonderful way to spend ti...</td>\n",
              "      <td>positive</td>\n",
              "      <td>thought wonderful way spend time hot summer we...</td>\n",
              "    </tr>\n",
              "    <tr>\n",
              "      <th>3</th>\n",
              "      <td>Basically there's a family where a little boy ...</td>\n",
              "      <td>negative</td>\n",
              "      <td>basically family little boy jake thinks zombie...</td>\n",
              "    </tr>\n",
              "    <tr>\n",
              "      <th>4</th>\n",
              "      <td>Petter Mattei's \"Love in the Time of Money\" is...</td>\n",
              "      <td>positive</td>\n",
              "      <td>petter mattei love time money visually stunnin...</td>\n",
              "    </tr>\n",
              "    <tr>\n",
              "      <th>...</th>\n",
              "      <td>...</td>\n",
              "      <td>...</td>\n",
              "      <td>...</td>\n",
              "    </tr>\n",
              "    <tr>\n",
              "      <th>49995</th>\n",
              "      <td>I thought this movie did a down right good job...</td>\n",
              "      <td>positive</td>\n",
              "      <td>thought movie right good job creative original...</td>\n",
              "    </tr>\n",
              "    <tr>\n",
              "      <th>49996</th>\n",
              "      <td>Bad plot, bad dialogue, bad acting, idiotic di...</td>\n",
              "      <td>negative</td>\n",
              "      <td>bad plot bad dialogue bad acting idiotic direc...</td>\n",
              "    </tr>\n",
              "    <tr>\n",
              "      <th>49997</th>\n",
              "      <td>I am a Catholic taught in parochial elementary...</td>\n",
              "      <td>negative</td>\n",
              "      <td>catholic taught parochial elementary schools n...</td>\n",
              "    </tr>\n",
              "    <tr>\n",
              "      <th>49998</th>\n",
              "      <td>I'm going to have to disagree with the previou...</td>\n",
              "      <td>negative</td>\n",
              "      <td>going disagree previous comment side maltin on...</td>\n",
              "    </tr>\n",
              "    <tr>\n",
              "      <th>49999</th>\n",
              "      <td>No one expects the Star Trek movies to be high...</td>\n",
              "      <td>negative</td>\n",
              "      <td>one expects star trek movies high art fans exp...</td>\n",
              "    </tr>\n",
              "  </tbody>\n",
              "</table>\n",
              "<p>50000 rows × 3 columns</p>\n",
              "</div>"
            ],
            "text/plain": [
              "                                                  review  ...                                       cleaned_text\n",
              "0      One of the other reviewers has mentioned that ...  ...  one reviewers mentioned watching oz episode ho...\n",
              "1      A wonderful little production. <br /><br />The...  ...  wonderful little production filming technique ...\n",
              "2      I thought this was a wonderful way to spend ti...  ...  thought wonderful way spend time hot summer we...\n",
              "3      Basically there's a family where a little boy ...  ...  basically family little boy jake thinks zombie...\n",
              "4      Petter Mattei's \"Love in the Time of Money\" is...  ...  petter mattei love time money visually stunnin...\n",
              "...                                                  ...  ...                                                ...\n",
              "49995  I thought this movie did a down right good job...  ...  thought movie right good job creative original...\n",
              "49996  Bad plot, bad dialogue, bad acting, idiotic di...  ...  bad plot bad dialogue bad acting idiotic direc...\n",
              "49997  I am a Catholic taught in parochial elementary...  ...  catholic taught parochial elementary schools n...\n",
              "49998  I'm going to have to disagree with the previou...  ...  going disagree previous comment side maltin on...\n",
              "49999  No one expects the Star Trek movies to be high...  ...  one expects star trek movies high art fans exp...\n",
              "\n",
              "[50000 rows x 3 columns]"
            ]
          },
          "metadata": {
            "tags": []
          },
          "execution_count": 9
        }
      ]
    },
    {
      "cell_type": "code",
      "metadata": {
        "id": "HoZqQOqiCsTt"
      },
      "source": [
        "from sklearn.preprocessing import LabelEncoder\n",
        "\n",
        "var_mod = ['sentiment']\n",
        "le = LabelEncoder()\n",
        "for i in var_mod:\n",
        "    df[i] = le.fit_transform(df[i])"
      ],
      "execution_count": 10,
      "outputs": []
    },
    {
      "cell_type": "code",
      "metadata": {
        "colab": {
          "base_uri": "https://localhost:8080/",
          "height": 402
        },
        "id": "puZxpcrhC1F7",
        "outputId": "645ea454-d22b-412b-e032-dbf49eeff13f"
      },
      "source": [
        "df"
      ],
      "execution_count": 11,
      "outputs": [
        {
          "output_type": "execute_result",
          "data": {
            "text/html": [
              "<div>\n",
              "<style scoped>\n",
              "    .dataframe tbody tr th:only-of-type {\n",
              "        vertical-align: middle;\n",
              "    }\n",
              "\n",
              "    .dataframe tbody tr th {\n",
              "        vertical-align: top;\n",
              "    }\n",
              "\n",
              "    .dataframe thead th {\n",
              "        text-align: right;\n",
              "    }\n",
              "</style>\n",
              "<table border=\"1\" class=\"dataframe\">\n",
              "  <thead>\n",
              "    <tr style=\"text-align: right;\">\n",
              "      <th></th>\n",
              "      <th>review</th>\n",
              "      <th>sentiment</th>\n",
              "      <th>cleaned_text</th>\n",
              "    </tr>\n",
              "  </thead>\n",
              "  <tbody>\n",
              "    <tr>\n",
              "      <th>0</th>\n",
              "      <td>One of the other reviewers has mentioned that ...</td>\n",
              "      <td>1</td>\n",
              "      <td>one reviewers mentioned watching oz episode ho...</td>\n",
              "    </tr>\n",
              "    <tr>\n",
              "      <th>1</th>\n",
              "      <td>A wonderful little production. &lt;br /&gt;&lt;br /&gt;The...</td>\n",
              "      <td>1</td>\n",
              "      <td>wonderful little production filming technique ...</td>\n",
              "    </tr>\n",
              "    <tr>\n",
              "      <th>2</th>\n",
              "      <td>I thought this was a wonderful way to spend ti...</td>\n",
              "      <td>1</td>\n",
              "      <td>thought wonderful way spend time hot summer we...</td>\n",
              "    </tr>\n",
              "    <tr>\n",
              "      <th>3</th>\n",
              "      <td>Basically there's a family where a little boy ...</td>\n",
              "      <td>0</td>\n",
              "      <td>basically family little boy jake thinks zombie...</td>\n",
              "    </tr>\n",
              "    <tr>\n",
              "      <th>4</th>\n",
              "      <td>Petter Mattei's \"Love in the Time of Money\" is...</td>\n",
              "      <td>1</td>\n",
              "      <td>petter mattei love time money visually stunnin...</td>\n",
              "    </tr>\n",
              "    <tr>\n",
              "      <th>...</th>\n",
              "      <td>...</td>\n",
              "      <td>...</td>\n",
              "      <td>...</td>\n",
              "    </tr>\n",
              "    <tr>\n",
              "      <th>49995</th>\n",
              "      <td>I thought this movie did a down right good job...</td>\n",
              "      <td>1</td>\n",
              "      <td>thought movie right good job creative original...</td>\n",
              "    </tr>\n",
              "    <tr>\n",
              "      <th>49996</th>\n",
              "      <td>Bad plot, bad dialogue, bad acting, idiotic di...</td>\n",
              "      <td>0</td>\n",
              "      <td>bad plot bad dialogue bad acting idiotic direc...</td>\n",
              "    </tr>\n",
              "    <tr>\n",
              "      <th>49997</th>\n",
              "      <td>I am a Catholic taught in parochial elementary...</td>\n",
              "      <td>0</td>\n",
              "      <td>catholic taught parochial elementary schools n...</td>\n",
              "    </tr>\n",
              "    <tr>\n",
              "      <th>49998</th>\n",
              "      <td>I'm going to have to disagree with the previou...</td>\n",
              "      <td>0</td>\n",
              "      <td>going disagree previous comment side maltin on...</td>\n",
              "    </tr>\n",
              "    <tr>\n",
              "      <th>49999</th>\n",
              "      <td>No one expects the Star Trek movies to be high...</td>\n",
              "      <td>0</td>\n",
              "      <td>one expects star trek movies high art fans exp...</td>\n",
              "    </tr>\n",
              "  </tbody>\n",
              "</table>\n",
              "<p>50000 rows × 3 columns</p>\n",
              "</div>"
            ],
            "text/plain": [
              "                                                  review  ...                                       cleaned_text\n",
              "0      One of the other reviewers has mentioned that ...  ...  one reviewers mentioned watching oz episode ho...\n",
              "1      A wonderful little production. <br /><br />The...  ...  wonderful little production filming technique ...\n",
              "2      I thought this was a wonderful way to spend ti...  ...  thought wonderful way spend time hot summer we...\n",
              "3      Basically there's a family where a little boy ...  ...  basically family little boy jake thinks zombie...\n",
              "4      Petter Mattei's \"Love in the Time of Money\" is...  ...  petter mattei love time money visually stunnin...\n",
              "...                                                  ...  ...                                                ...\n",
              "49995  I thought this movie did a down right good job...  ...  thought movie right good job creative original...\n",
              "49996  Bad plot, bad dialogue, bad acting, idiotic di...  ...  bad plot bad dialogue bad acting idiotic direc...\n",
              "49997  I am a Catholic taught in parochial elementary...  ...  catholic taught parochial elementary schools n...\n",
              "49998  I'm going to have to disagree with the previou...  ...  going disagree previous comment side maltin on...\n",
              "49999  No one expects the Star Trek movies to be high...  ...  one expects star trek movies high art fans exp...\n",
              "\n",
              "[50000 rows x 3 columns]"
            ]
          },
          "metadata": {
            "tags": []
          },
          "execution_count": 11
        }
      ]
    },
    {
      "cell_type": "code",
      "metadata": {
        "colab": {
          "base_uri": "https://localhost:8080/"
        },
        "id": "WfuZ3DeaC37q",
        "outputId": "f5d78d81-ae39-48b1-86f6-3409e67b7018"
      },
      "source": [
        "from sklearn.model_selection import train_test_split\n",
        "from sklearn.feature_extraction.text import CountVectorizer\n",
        "\n",
        "x = df['cleaned_text'].values\n",
        "y = df['sentiment'].values\n",
        "\n",
        "\n",
        "vectorizer = CountVectorizer(analyzer = \"word\",   \\\n",
        "                             tokenizer = None,    \\\n",
        "                             preprocessor = None, \\\n",
        "                             stop_words = None,   \\\n",
        "                             max_features = 5000)\n",
        "\n",
        "train_data_features = vectorizer.fit_transform(x)\n",
        "\n",
        "\n",
        "X_train,X_test,y_train,y_test = train_test_split(train_data_features,y,random_state=0, test_size=0.2)\n",
        "print(X_train.shape)\n",
        "print(X_test.shape)"
      ],
      "execution_count": 12,
      "outputs": [
        {
          "output_type": "stream",
          "text": [
            "(40000, 5000)\n",
            "(10000, 5000)\n"
          ],
          "name": "stdout"
        }
      ]
    },
    {
      "cell_type": "code",
      "metadata": {
        "id": "xZe3ZH4hDjHW"
      },
      "source": [
        "from sklearn.ensemble import RandomForestClassifier\n",
        "forest = RandomForestClassifier(n_estimators = 200) \n",
        "forest = forest.fit( X_train, y_train )"
      ],
      "execution_count": 14,
      "outputs": []
    },
    {
      "cell_type": "code",
      "metadata": {
        "id": "oDE6xw5dD4B-"
      },
      "source": [
        "prediction=forest.predict(X_test)"
      ],
      "execution_count": 15,
      "outputs": []
    },
    {
      "cell_type": "code",
      "metadata": {
        "colab": {
          "base_uri": "https://localhost:8080/"
        },
        "id": "O3xYCdJHEM9O",
        "outputId": "5b3345a0-afc6-4a28-b755-e820ffc2d88a"
      },
      "source": [
        "from sklearn.metrics import accuracy_score\n",
        "accuracy_score(y_test, prediction)"
      ],
      "execution_count": 16,
      "outputs": [
        {
          "output_type": "execute_result",
          "data": {
            "text/plain": [
              "0.8498"
            ]
          },
          "metadata": {
            "tags": []
          },
          "execution_count": 16
        }
      ]
    },
    {
      "cell_type": "code",
      "metadata": {
        "id": "A7tprAEQFH6H"
      },
      "source": [
        "df_test=pd.read_csv('/content/Data Analyst - Test Data - US.csv')"
      ],
      "execution_count": 17,
      "outputs": []
    },
    {
      "cell_type": "code",
      "metadata": {
        "colab": {
          "base_uri": "https://localhost:8080/",
          "height": 639
        },
        "id": "QUwN6_mHFPU7",
        "outputId": "3e3ecf5f-7427-4d4e-fdf1-e4f63221b431"
      },
      "source": [
        "df_test.head(20)"
      ],
      "execution_count": 19,
      "outputs": [
        {
          "output_type": "execute_result",
          "data": {
            "text/html": [
              "<div>\n",
              "<style scoped>\n",
              "    .dataframe tbody tr th:only-of-type {\n",
              "        vertical-align: middle;\n",
              "    }\n",
              "\n",
              "    .dataframe tbody tr th {\n",
              "        vertical-align: top;\n",
              "    }\n",
              "\n",
              "    .dataframe thead th {\n",
              "        text-align: right;\n",
              "    }\n",
              "</style>\n",
              "<table border=\"1\" class=\"dataframe\">\n",
              "  <thead>\n",
              "    <tr style=\"text-align: right;\">\n",
              "      <th></th>\n",
              "      <th>Review</th>\n",
              "      <th>date</th>\n",
              "      <th>Location</th>\n",
              "    </tr>\n",
              "  </thead>\n",
              "  <tbody>\n",
              "    <tr>\n",
              "      <th>0</th>\n",
              "      <td>I was very impressed with the resort.\\n Great ...</td>\n",
              "      <td>2019/08/20</td>\n",
              "      <td>Sebastian</td>\n",
              "    </tr>\n",
              "    <tr>\n",
              "      <th>1</th>\n",
              "      <td>The rooms were nice the outside needs work als...</td>\n",
              "      <td>2019/08/20</td>\n",
              "      <td>Los Angeles</td>\n",
              "    </tr>\n",
              "    <tr>\n",
              "      <th>2</th>\n",
              "      <td>Great location! I have stayed at this hotel on...</td>\n",
              "      <td>2019/08/20</td>\n",
              "      <td>Georgia</td>\n",
              "    </tr>\n",
              "    <tr>\n",
              "      <th>3</th>\n",
              "      <td>The hotel was adequate for my stay. The strips...</td>\n",
              "      <td>2019/08/20</td>\n",
              "      <td>NaN</td>\n",
              "    </tr>\n",
              "    <tr>\n",
              "      <th>4</th>\n",
              "      <td>Great location, room was large and spacious. P...</td>\n",
              "      <td>2019/08/19</td>\n",
              "      <td>Palm Harbor</td>\n",
              "    </tr>\n",
              "    <tr>\n",
              "      <th>5</th>\n",
              "      <td>All the options for fun were great! Do wish th...</td>\n",
              "      <td>2019/08/19</td>\n",
              "      <td>NaN</td>\n",
              "    </tr>\n",
              "    <tr>\n",
              "      <th>6</th>\n",
              "      <td>Old. Musty. Motel. \\n Bath need an update asap...</td>\n",
              "      <td>2019/08/19</td>\n",
              "      <td>NaN</td>\n",
              "    </tr>\n",
              "    <tr>\n",
              "      <th>7</th>\n",
              "      <td>Loved the layout of the hotel and the relaxing...</td>\n",
              "      <td>2019/08/19</td>\n",
              "      <td>NaN</td>\n",
              "    </tr>\n",
              "    <tr>\n",
              "      <th>8</th>\n",
              "      <td>My wife and I loved everything about it. It’s ...</td>\n",
              "      <td>2019/08/19</td>\n",
              "      <td>NaN</td>\n",
              "    </tr>\n",
              "    <tr>\n",
              "      <th>9</th>\n",
              "      <td>rooms were very small, was told i had a compli...</td>\n",
              "      <td>2019/08/19</td>\n",
              "      <td>NaN</td>\n",
              "    </tr>\n",
              "    <tr>\n",
              "      <th>10</th>\n",
              "      <td>Very clean and friendly and I love the locatio...</td>\n",
              "      <td>2019/08/19</td>\n",
              "      <td>California</td>\n",
              "    </tr>\n",
              "    <tr>\n",
              "      <th>11</th>\n",
              "      <td>Nice and comfortable good position near the st...</td>\n",
              "      <td>2019/08/19</td>\n",
              "      <td>NaN</td>\n",
              "    </tr>\n",
              "    <tr>\n",
              "      <th>12</th>\n",
              "      <td>Location was great, lobby area was nice but ro...</td>\n",
              "      <td>2019/08/19</td>\n",
              "      <td>NaN</td>\n",
              "    </tr>\n",
              "    <tr>\n",
              "      <th>13</th>\n",
              "      <td>Quiet and at a great location. \\n Good control...</td>\n",
              "      <td>2019/08/19</td>\n",
              "      <td>NaN</td>\n",
              "    </tr>\n",
              "    <tr>\n",
              "      <th>14</th>\n",
              "      <td>El servicio super amables no todos en el buffe...</td>\n",
              "      <td>2019/08/19</td>\n",
              "      <td>NaN</td>\n",
              "    </tr>\n",
              "    <tr>\n",
              "      <th>15</th>\n",
              "      <td>Very nice and quiet and clean rooms. \\n We wil...</td>\n",
              "      <td>2019/08/19</td>\n",
              "      <td>Redding</td>\n",
              "    </tr>\n",
              "    <tr>\n",
              "      <th>16</th>\n",
              "      <td>Rooms were clean, updated, and beds were comfo...</td>\n",
              "      <td>2019/08/19</td>\n",
              "      <td>NaN</td>\n",
              "    </tr>\n",
              "    <tr>\n",
              "      <th>17</th>\n",
              "      <td>The staff was exceptionally helpful and the pr...</td>\n",
              "      <td>2019/08/19</td>\n",
              "      <td>NaN</td>\n",
              "    </tr>\n",
              "    <tr>\n",
              "      <th>18</th>\n",
              "      <td>It was great for what we needed, a place to sl...</td>\n",
              "      <td>2019/08/19</td>\n",
              "      <td>NaN</td>\n",
              "    </tr>\n",
              "    <tr>\n",
              "      <th>19</th>\n",
              "      <td>rooms were clean. we had two room and were abl...</td>\n",
              "      <td>2019/08/19</td>\n",
              "      <td>NaN</td>\n",
              "    </tr>\n",
              "  </tbody>\n",
              "</table>\n",
              "</div>"
            ],
            "text/plain": [
              "                                               Review        date     Location\n",
              "0   I was very impressed with the resort.\\n Great ...  2019/08/20    Sebastian\n",
              "1   The rooms were nice the outside needs work als...  2019/08/20  Los Angeles\n",
              "2   Great location! I have stayed at this hotel on...  2019/08/20      Georgia\n",
              "3   The hotel was adequate for my stay. The strips...  2019/08/20          NaN\n",
              "4   Great location, room was large and spacious. P...  2019/08/19  Palm Harbor\n",
              "5   All the options for fun were great! Do wish th...  2019/08/19          NaN\n",
              "6   Old. Musty. Motel. \\n Bath need an update asap...  2019/08/19          NaN\n",
              "7   Loved the layout of the hotel and the relaxing...  2019/08/19          NaN\n",
              "8   My wife and I loved everything about it. It’s ...  2019/08/19          NaN\n",
              "9   rooms were very small, was told i had a compli...  2019/08/19          NaN\n",
              "10  Very clean and friendly and I love the locatio...  2019/08/19   California\n",
              "11  Nice and comfortable good position near the st...  2019/08/19          NaN\n",
              "12  Location was great, lobby area was nice but ro...  2019/08/19          NaN\n",
              "13  Quiet and at a great location. \\n Good control...  2019/08/19          NaN\n",
              "14  El servicio super amables no todos en el buffe...  2019/08/19          NaN\n",
              "15  Very nice and quiet and clean rooms. \\n We wil...  2019/08/19      Redding\n",
              "16  Rooms were clean, updated, and beds were comfo...  2019/08/19          NaN\n",
              "17  The staff was exceptionally helpful and the pr...  2019/08/19          NaN\n",
              "18  It was great for what we needed, a place to sl...  2019/08/19          NaN\n",
              "19  rooms were clean. we had two room and were abl...  2019/08/19          NaN"
            ]
          },
          "metadata": {
            "tags": []
          },
          "execution_count": 19
        }
      ]
    },
    {
      "cell_type": "code",
      "metadata": {
        "colab": {
          "base_uri": "https://localhost:8080/"
        },
        "id": "idoNJupNHZs2",
        "outputId": "71f5011e-d6c2-4dd3-89a6-e6861ebc07bb"
      },
      "source": [
        "df_test.isnull().sum()"
      ],
      "execution_count": 37,
      "outputs": [
        {
          "output_type": "execute_result",
          "data": {
            "text/plain": [
              "Review        55\n",
              "date           0\n",
              "Location    4737\n",
              "dtype: int64"
            ]
          },
          "metadata": {
            "tags": []
          },
          "execution_count": 37
        }
      ]
    },
    {
      "cell_type": "code",
      "metadata": {
        "id": "VajprTMtIC7w"
      },
      "source": [
        "df_test = df_test[df_test['Review'].notnull()]"
      ],
      "execution_count": 38,
      "outputs": []
    },
    {
      "cell_type": "code",
      "metadata": {
        "id": "30ezDM0FFSjZ"
      },
      "source": [
        "df_test['cleaned_review'] = df_test.Review.apply(lambda x: clean_text(x))"
      ],
      "execution_count": 39,
      "outputs": []
    },
    {
      "cell_type": "code",
      "metadata": {
        "colab": {
          "base_uri": "https://localhost:8080/",
          "height": 195
        },
        "id": "rPoH3cv9Ibqi",
        "outputId": "89ef57d1-2e88-4590-f812-be386f0e8b97"
      },
      "source": [
        "df_test.head()"
      ],
      "execution_count": 40,
      "outputs": [
        {
          "output_type": "execute_result",
          "data": {
            "text/html": [
              "<div>\n",
              "<style scoped>\n",
              "    .dataframe tbody tr th:only-of-type {\n",
              "        vertical-align: middle;\n",
              "    }\n",
              "\n",
              "    .dataframe tbody tr th {\n",
              "        vertical-align: top;\n",
              "    }\n",
              "\n",
              "    .dataframe thead th {\n",
              "        text-align: right;\n",
              "    }\n",
              "</style>\n",
              "<table border=\"1\" class=\"dataframe\">\n",
              "  <thead>\n",
              "    <tr style=\"text-align: right;\">\n",
              "      <th></th>\n",
              "      <th>Review</th>\n",
              "      <th>date</th>\n",
              "      <th>Location</th>\n",
              "      <th>cleaned_review</th>\n",
              "    </tr>\n",
              "  </thead>\n",
              "  <tbody>\n",
              "    <tr>\n",
              "      <th>0</th>\n",
              "      <td>I was very impressed with the resort.\\n Great ...</td>\n",
              "      <td>2019/08/20</td>\n",
              "      <td>Sebastian</td>\n",
              "      <td>impressed resort great staff main resort pool ...</td>\n",
              "    </tr>\n",
              "    <tr>\n",
              "      <th>1</th>\n",
              "      <td>The rooms were nice the outside needs work als...</td>\n",
              "      <td>2019/08/20</td>\n",
              "      <td>Los Angeles</td>\n",
              "      <td>rooms nice outside needs work also free breakf...</td>\n",
              "    </tr>\n",
              "    <tr>\n",
              "      <th>2</th>\n",
              "      <td>Great location! I have stayed at this hotel on...</td>\n",
              "      <td>2019/08/20</td>\n",
              "      <td>Georgia</td>\n",
              "      <td>great location stayed hotel last three trips n...</td>\n",
              "    </tr>\n",
              "    <tr>\n",
              "      <th>3</th>\n",
              "      <td>The hotel was adequate for my stay. The strips...</td>\n",
              "      <td>2019/08/20</td>\n",
              "      <td>NaN</td>\n",
              "      <td>hotel adequate stay strips bathtub useless fel...</td>\n",
              "    </tr>\n",
              "    <tr>\n",
              "      <th>4</th>\n",
              "      <td>Great location, room was large and spacious. P...</td>\n",
              "      <td>2019/08/19</td>\n",
              "      <td>Palm Harbor</td>\n",
              "      <td>great location room large spacious parking eas...</td>\n",
              "    </tr>\n",
              "  </tbody>\n",
              "</table>\n",
              "</div>"
            ],
            "text/plain": [
              "                                              Review  ...                                     cleaned_review\n",
              "0  I was very impressed with the resort.\\n Great ...  ...  impressed resort great staff main resort pool ...\n",
              "1  The rooms were nice the outside needs work als...  ...  rooms nice outside needs work also free breakf...\n",
              "2  Great location! I have stayed at this hotel on...  ...  great location stayed hotel last three trips n...\n",
              "3  The hotel was adequate for my stay. The strips...  ...  hotel adequate stay strips bathtub useless fel...\n",
              "4  Great location, room was large and spacious. P...  ...  great location room large spacious parking eas...\n",
              "\n",
              "[5 rows x 4 columns]"
            ]
          },
          "metadata": {
            "tags": []
          },
          "execution_count": 40
        }
      ]
    },
    {
      "cell_type": "code",
      "metadata": {
        "id": "PM58NavbGYje"
      },
      "source": [
        "x1 = df_test['cleaned_review'].values"
      ],
      "execution_count": 42,
      "outputs": []
    },
    {
      "cell_type": "code",
      "metadata": {
        "id": "5XJF0BPbIfSY"
      },
      "source": [
        "vectorizer = CountVectorizer(analyzer = \"word\",   \\\n",
        "                             tokenizer = None,    \\\n",
        "                             preprocessor = None, \\\n",
        "                             stop_words = None,   \\\n",
        "                             max_features = 5000)\n",
        "\n",
        "analysis_features = vectorizer.fit_transform(x1)"
      ],
      "execution_count": 43,
      "outputs": []
    },
    {
      "cell_type": "code",
      "metadata": {
        "colab": {
          "base_uri": "https://localhost:8080/"
        },
        "id": "QjTm3QtzIwOf",
        "outputId": "7cc0a229-5707-4136-936d-e8922a7f119e"
      },
      "source": [
        "analysis_features.shape"
      ],
      "execution_count": 44,
      "outputs": [
        {
          "output_type": "execute_result",
          "data": {
            "text/plain": [
              "(6393, 5000)"
            ]
          },
          "metadata": {
            "tags": []
          },
          "execution_count": 44
        }
      ]
    },
    {
      "cell_type": "code",
      "metadata": {
        "id": "akUugiQmIo-M"
      },
      "source": [
        "sentiment=forest.predict(analysis_features)"
      ],
      "execution_count": 45,
      "outputs": []
    },
    {
      "cell_type": "code",
      "metadata": {
        "colab": {
          "base_uri": "https://localhost:8080/"
        },
        "id": "iTfJXAQTIzbs",
        "outputId": "22065e66-af43-415c-b5d5-b28430301802"
      },
      "source": [
        "type(sentiment)"
      ],
      "execution_count": 46,
      "outputs": [
        {
          "output_type": "execute_result",
          "data": {
            "text/plain": [
              "numpy.ndarray"
            ]
          },
          "metadata": {
            "tags": []
          },
          "execution_count": 46
        }
      ]
    },
    {
      "cell_type": "code",
      "metadata": {
        "id": "eqgSBeBzI2WG"
      },
      "source": [
        "df_test['sentiment']=sentiment"
      ],
      "execution_count": 47,
      "outputs": []
    },
    {
      "cell_type": "code",
      "metadata": {
        "colab": {
          "base_uri": "https://localhost:8080/",
          "height": 402
        },
        "id": "Aw7HeCH4I-GS",
        "outputId": "641d194d-d888-40f3-b7ed-f7825e3dff5d"
      },
      "source": [
        "df_test"
      ],
      "execution_count": 48,
      "outputs": [
        {
          "output_type": "execute_result",
          "data": {
            "text/html": [
              "<div>\n",
              "<style scoped>\n",
              "    .dataframe tbody tr th:only-of-type {\n",
              "        vertical-align: middle;\n",
              "    }\n",
              "\n",
              "    .dataframe tbody tr th {\n",
              "        vertical-align: top;\n",
              "    }\n",
              "\n",
              "    .dataframe thead th {\n",
              "        text-align: right;\n",
              "    }\n",
              "</style>\n",
              "<table border=\"1\" class=\"dataframe\">\n",
              "  <thead>\n",
              "    <tr style=\"text-align: right;\">\n",
              "      <th></th>\n",
              "      <th>Review</th>\n",
              "      <th>date</th>\n",
              "      <th>Location</th>\n",
              "      <th>cleaned_review</th>\n",
              "      <th>sentiment</th>\n",
              "    </tr>\n",
              "  </thead>\n",
              "  <tbody>\n",
              "    <tr>\n",
              "      <th>0</th>\n",
              "      <td>I was very impressed with the resort.\\n Great ...</td>\n",
              "      <td>2019/08/20</td>\n",
              "      <td>Sebastian</td>\n",
              "      <td>impressed resort great staff main resort pool ...</td>\n",
              "      <td>0</td>\n",
              "    </tr>\n",
              "    <tr>\n",
              "      <th>1</th>\n",
              "      <td>The rooms were nice the outside needs work als...</td>\n",
              "      <td>2019/08/20</td>\n",
              "      <td>Los Angeles</td>\n",
              "      <td>rooms nice outside needs work also free breakf...</td>\n",
              "      <td>1</td>\n",
              "    </tr>\n",
              "    <tr>\n",
              "      <th>2</th>\n",
              "      <td>Great location! I have stayed at this hotel on...</td>\n",
              "      <td>2019/08/20</td>\n",
              "      <td>Georgia</td>\n",
              "      <td>great location stayed hotel last three trips n...</td>\n",
              "      <td>1</td>\n",
              "    </tr>\n",
              "    <tr>\n",
              "      <th>3</th>\n",
              "      <td>The hotel was adequate for my stay. The strips...</td>\n",
              "      <td>2019/08/20</td>\n",
              "      <td>NaN</td>\n",
              "      <td>hotel adequate stay strips bathtub useless fel...</td>\n",
              "      <td>0</td>\n",
              "    </tr>\n",
              "    <tr>\n",
              "      <th>4</th>\n",
              "      <td>Great location, room was large and spacious. P...</td>\n",
              "      <td>2019/08/19</td>\n",
              "      <td>Palm Harbor</td>\n",
              "      <td>great location room large spacious parking eas...</td>\n",
              "      <td>1</td>\n",
              "    </tr>\n",
              "    <tr>\n",
              "      <th>...</th>\n",
              "      <td>...</td>\n",
              "      <td>...</td>\n",
              "      <td>...</td>\n",
              "      <td>...</td>\n",
              "      <td>...</td>\n",
              "    </tr>\n",
              "    <tr>\n",
              "      <th>6443</th>\n",
              "      <td>·the staff were all so friendly. frank, the ch...</td>\n",
              "      <td>2019/07/12</td>\n",
              "      <td>United States of America</td>\n",
              "      <td>staff friendly frank chef buffet bar top meeti...</td>\n",
              "      <td>0</td>\n",
              "    </tr>\n",
              "    <tr>\n",
              "      <th>6444</th>\n",
              "      <td>·the internet barely worked or didn't work</td>\n",
              "      <td>2019/07/12</td>\n",
              "      <td>United States of America</td>\n",
              "      <td>internet barely worked work</td>\n",
              "      <td>1</td>\n",
              "    </tr>\n",
              "    <tr>\n",
              "      <th>6445</th>\n",
              "      <td>·the location was great.\\n \\n \\n \\n \\n ·the be...</td>\n",
              "      <td>2019/07/10</td>\n",
              "      <td>United States of America</td>\n",
              "      <td>location great bed uncomfortable bed ever</td>\n",
              "      <td>1</td>\n",
              "    </tr>\n",
              "    <tr>\n",
              "      <th>6446</th>\n",
              "      <td>·we were early for check in and the staff was ...</td>\n",
              "      <td>2019/07/10</td>\n",
              "      <td>United States of America</td>\n",
              "      <td>early check staff accommodating able check sev...</td>\n",
              "      <td>1</td>\n",
              "    </tr>\n",
              "    <tr>\n",
              "      <th>6447</th>\n",
              "      <td>·staff, free coffee, location and activities.\\...</td>\n",
              "      <td>2019/07/10</td>\n",
              "      <td>United States of America</td>\n",
              "      <td>staff free coffee location activities beds sma...</td>\n",
              "      <td>1</td>\n",
              "    </tr>\n",
              "  </tbody>\n",
              "</table>\n",
              "<p>6393 rows × 5 columns</p>\n",
              "</div>"
            ],
            "text/plain": [
              "                                                 Review  ... sentiment\n",
              "0     I was very impressed with the resort.\\n Great ...  ...         0\n",
              "1     The rooms were nice the outside needs work als...  ...         1\n",
              "2     Great location! I have stayed at this hotel on...  ...         1\n",
              "3     The hotel was adequate for my stay. The strips...  ...         0\n",
              "4     Great location, room was large and spacious. P...  ...         1\n",
              "...                                                 ...  ...       ...\n",
              "6443  ·the staff were all so friendly. frank, the ch...  ...         0\n",
              "6444         ·the internet barely worked or didn't work  ...         1\n",
              "6445  ·the location was great.\\n \\n \\n \\n \\n ·the be...  ...         1\n",
              "6446  ·we were early for check in and the staff was ...  ...         1\n",
              "6447  ·staff, free coffee, location and activities.\\...  ...         1\n",
              "\n",
              "[6393 rows x 5 columns]"
            ]
          },
          "metadata": {
            "tags": []
          },
          "execution_count": 48
        }
      ]
    },
    {
      "cell_type": "code",
      "metadata": {
        "colab": {
          "base_uri": "https://localhost:8080/"
        },
        "id": "rEmWDK7TI_7r",
        "outputId": "34b954ae-4819-4738-f6a2-1c8198577816"
      },
      "source": [
        "df_test['sentiment'].value_counts()"
      ],
      "execution_count": 50,
      "outputs": [
        {
          "output_type": "execute_result",
          "data": {
            "text/plain": [
              "1    4959\n",
              "0    1434\n",
              "Name: sentiment, dtype: int64"
            ]
          },
          "metadata": {
            "tags": []
          },
          "execution_count": 50
        }
      ]
    },
    {
      "cell_type": "code",
      "metadata": {
        "colab": {
          "base_uri": "https://localhost:8080/"
        },
        "id": "Ne4yL1KlJFAJ",
        "outputId": "0a05f566-b858-47e5-cf84-43b7be9ec02f"
      },
      "source": [
        "df_test['Location'].value_counts()"
      ],
      "execution_count": 51,
      "outputs": [
        {
          "output_type": "execute_result",
          "data": {
            "text/plain": [
              "United States of America    116\n",
              "New York                     34\n",
              "San Jose                     19\n",
              "California                   19\n",
              "Canada                       16\n",
              "                           ... \n",
              "Venezuela                     1\n",
              "Clinton, MD                   1\n",
              "Estero,FL                     1\n",
              "Rochester NY                  1\n",
              "Ottawa, ca                    1\n",
              "Name: Location, Length: 1078, dtype: int64"
            ]
          },
          "metadata": {
            "tags": []
          },
          "execution_count": 51
        }
      ]
    },
    {
      "cell_type": "code",
      "metadata": {
        "id": "HE992pX8Khx-"
      },
      "source": [
        "df_test.reset_index(drop=True, inplace=True)"
      ],
      "execution_count": 54,
      "outputs": []
    },
    {
      "cell_type": "code",
      "metadata": {
        "id": "RpD9DFnqJOVG"
      },
      "source": [
        "country=[]\n",
        "for i in range(len(df_test)):\n",
        "  if df_test['sentiment'][i]==0:\n",
        "    country.append(df_test['Location'][i])"
      ],
      "execution_count": 55,
      "outputs": []
    },
    {
      "cell_type": "code",
      "metadata": {
        "colab": {
          "base_uri": "https://localhost:8080/"
        },
        "id": "I6ZpOIgGKdih",
        "outputId": "7b6f5c71-429d-4747-acfd-2564542fac93"
      },
      "source": [
        "import numpy as np\n",
        "np.unique(np.array(country))"
      ],
      "execution_count": 61,
      "outputs": [
        {
          "output_type": "execute_result",
          "data": {
            "text/plain": [
              "array(['Aalborg, Denmark', 'Albany NY', 'Albany, NY', 'Allentown, NJ',\n",
              "       'Andover, MA', 'Angus,Scotland', 'Arizona', 'Atlanta',\n",
              "       'Atlanta Georgis', 'Atlanta, GA', 'Auckland, New Zealand',\n",
              "       'Austin, TX', 'Bay Area', 'Belfast Northern Ireland',\n",
              "       'Bellevue, WA', 'Bensalem, US', 'Bermuda', 'Bethesda, MD',\n",
              "       'Bethlehem, PA', 'Birmingham, AL', 'Birmingham, AL, US',\n",
              "       'Birmingham, al', 'Boston', 'Boston, MA', 'Bradenton, FL',\n",
              "       'Brick NJ', 'CA', 'CT.', 'California', 'Canada', 'Cardiff', 'Cary',\n",
              "       'Catania, it', 'Chicago', 'Chicago, us', 'Chicago,Il',\n",
              "       'Chula vista CA', 'Clarkdale, AZ', 'Cleveland, OH', 'Clover, SC',\n",
              "       'Clovis, CA', 'Collegeville, PA', 'Concord, NH',\n",
              "       'Crystal Beach, Ontario', 'DC', 'Dallas, Texas', 'Daytona',\n",
              "       'Denver', 'Denver, CO', 'Destin, FL', 'Detroit',\n",
              "       'Dicht bij Amsterdam', 'Dinuba California', 'England',\n",
              "       'England UK', 'España', 'Estero,FL', 'Exton, PA',\n",
              "       'Fernandina Beach, FL', 'Florida', 'Flushing, NY', 'Fort Collins',\n",
              "       'Fort Lauderdale, Florida', 'Frankfurt, Germany',\n",
              "       'Fresh Meadows, New York', 'Fresno, CA', 'Frisco, TX',\n",
              "       'Fruitvale Tx.', 'Ft. Lauderdale', 'Ft. Myers', 'Gainesville VA',\n",
              "       'Gainesville florida', 'Genova', 'Georgia', 'Gifu Japan',\n",
              "       'Glasgow', 'Glasgow, UK', 'Guanajuato, México.', 'Guatemala',\n",
              "       'Hamilton, ON, Canada', 'Harderwijk', 'Hawthorne, California, USA',\n",
              "       'Hertfordshire', 'Hidson Valley, US', 'High Point, us',\n",
              "       'Houston,TX', 'Huissen', 'Idaho', 'Illinois', 'Iowa', 'Irvine',\n",
              "       'Irvine, CA', 'Jacksonville', 'Jacksonville fl',\n",
              "       'Jacksonville, FL', 'Jacksonville, Florida', 'Jupiter',\n",
              "       'Jupiter, FL', 'Kansas City', 'Kent, Ohio', 'Key Largo',\n",
              "       'Key Largo, Florida', 'L.A', 'La quinta', 'Lake Buena Vista',\n",
              "       'Lake Buena Vista - Orlando', 'Lake worth', 'Lamar SC',\n",
              "       'Lancaster County, PA', 'Las Vegas, NV', 'Lehi',\n",
              "       'Lehigh Acres Florida', 'Lincoln, CA', 'Livermore, Ca', 'London',\n",
              "       'London Ontario', 'Los Angeles', 'Los Angeles, CA',\n",
              "       'Loves Park, IL', 'Loxahatchee Fl', 'MILANO', 'Maine',\n",
              "       'Mansfield, Texas', 'Maryland', 'Massachusetts',\n",
              "       'Melbourne, Australia.', 'Mequon, Wi', 'Merlin, Oregon, us',\n",
              "       'Miami', 'Miami, FL', 'Miami, FL, US', 'Miami, Fl.',\n",
              "       'Miami, Florida', 'Midway, USA', 'Minnesota', 'Minster', 'Mission',\n",
              "       'Monterey, US', 'Montreal', 'Montreal, Canada', 'Montreal, QC',\n",
              "       'Montreal, ca', 'Montréal', 'Mukilteo, WA', 'Murrieta, CA', 'NC',\n",
              "       'NJ', 'NY', 'NY NY', 'NYC', 'Nairobi', 'Naples', 'Nashville, TN',\n",
              "       'Nashville, TN, USA', 'Nassau Bahamas', 'Nederland',\n",
              "       'New Boston, MI', 'New Jersey', 'New York', 'New York, NY',\n",
              "       'New-York', 'New-york', 'Newark', 'North Branford, CT.',\n",
              "       'North Carolina', 'Northern California', 'Nova Scotia, Canada',\n",
              "       'OS, Ms', 'Ocho Rios, Jamaica', 'Oldsmar, Fl', 'Olympia, Wa',\n",
              "       'Orando FL', 'Oregon', 'Orlando', 'Orlando, FL', 'Ottawa',\n",
              "       'Ottawa Ont', 'Ottawa Ontario', 'Oxnard, CA', 'Palm Bay FL',\n",
              "       'Panama City', 'Parker, Colorado', 'Peterborough uk',\n",
              "       'Philadelphia, PA', 'Philadelphia, us', 'Philippines',\n",
              "       'Pikeville, Ky', 'Portland, OR', 'Portsmouth, UK', 'Puerto Rico',\n",
              "       'RSM, USA', 'Ratingen', 'Regina, SK', 'Reno, NV', 'Reno, Nevada',\n",
              "       'Rhode Island', 'Riverside, California', 'Rochester, NY',\n",
              "       'Sacramento', 'Sacramento, CA', 'Saint John, NB Canada',\n",
              "       'San Diego', 'San Diego, CA', 'San Francisco', 'San Jose',\n",
              "       'San Jose, CA Silicone Valley', 'San Jose, Ca',\n",
              "       'Santa Barbara, us', 'Santo Domingo', 'Saratoga new york',\n",
              "       'Savannah, GA', 'Scotland', 'Scotts Valley', 'Seattle',\n",
              "       'Seattle, WA', 'Sebastian', 'Short Hills, NJ',\n",
              "       'Silicon Valley San Jose', 'Simi Valley, CA (USA)', 'Singapore',\n",
              "       'So Cal', 'Southend-on-sea Essex', 'Spring, TX', 'Spring, tx',\n",
              "       'St Barth', 'St Monans', 'St louis', 'St. Louis, MO', 'St. Pete',\n",
              "       'Stafford, VA', 'Stockholm', 'Stuart, Florida', 'Stuttgart',\n",
              "       'Tennessee', 'Terral, OK', 'Texas', 'Thunder Bay', 'Tokyo',\n",
              "       'Toronto', 'Toronto, Canada', 'Toronto, ON', 'Tulare, ca', 'US',\n",
              "       'Uk', 'Uk Midlands.', 'Union, NJ', 'United States of America',\n",
              "       'Utah', 'Vancouver', 'Vancouver, BC', 'Vegas', 'Vero Beach',\n",
              "       'Vinton, VA 24179', 'Virginia', 'WPB, FL', 'Walnut hill Illinois',\n",
              "       'Warminster, Pa, us', 'Warren, RI', 'Washington', 'Washington, DC',\n",
              "       'West Palm Beach', 'West Portsmouth, Ohio', 'West Salem, WI',\n",
              "       'Western Australia', 'Westmont, IL, us', 'Wichita KS',\n",
              "       'Willoughby, OH', 'Winnipeg', 'Wokingham, England',\n",
              "       'Zionsville, Pa', 'california', 'cary, NC', 'huntington,NY',\n",
              "       'las vegas', 'mexico', 'mississauga', 'nan', 'ponce inlet',\n",
              "       'vittorio veneto'], dtype='<U28')"
            ]
          },
          "metadata": {
            "tags": []
          },
          "execution_count": 61
        }
      ]
    },
    {
      "cell_type": "code",
      "metadata": {
        "id": "7J8PfL0iKnF3"
      },
      "source": [
        "max_positive=df_test.groupby([\"Location\"]).sentiment.sum().reset_index()"
      ],
      "execution_count": 95,
      "outputs": []
    },
    {
      "cell_type": "code",
      "metadata": {
        "colab": {
          "base_uri": "https://localhost:8080/"
        },
        "id": "byon2zd5LfDm",
        "outputId": "c61821e8-3add-425d-b2b3-cf673e0b41f3"
      },
      "source": [
        "np.argmax(np.array(max_positive['sentiment']))"
      ],
      "execution_count": 98,
      "outputs": [
        {
          "output_type": "execute_result",
          "data": {
            "text/plain": [
              "929"
            ]
          },
          "metadata": {
            "tags": []
          },
          "execution_count": 98
        }
      ]
    },
    {
      "cell_type": "code",
      "metadata": {
        "colab": {
          "base_uri": "https://localhost:8080/"
        },
        "id": "NTMOcIOXPGS4",
        "outputId": "8c45ae9f-89e8-4d58-e16d-0cebf4387bf8"
      },
      "source": [
        "max_positive.iloc[929]"
      ],
      "execution_count": 101,
      "outputs": [
        {
          "output_type": "execute_result",
          "data": {
            "text/plain": [
              "Location     United States of America\n",
              "sentiment                          98\n",
              "Name: 929, dtype: object"
            ]
          },
          "metadata": {
            "tags": []
          },
          "execution_count": 101
        }
      ]
    },
    {
      "cell_type": "code",
      "metadata": {
        "id": "g-aGfh1RSpnC"
      },
      "source": [
        "max_positive_only=max_positive[max_positive['sentiment']!=0]"
      ],
      "execution_count": 114,
      "outputs": []
    },
    {
      "cell_type": "code",
      "metadata": {
        "colab": {
          "base_uri": "https://localhost:8080/"
        },
        "id": "2ebo-zLCS3NG",
        "outputId": "2aec5e54-b3a8-4810-fa69-7ca0d3059bdd"
      },
      "source": [
        "np.argmin(np.array(max_positive_only['sentiment']))"
      ],
      "execution_count": 115,
      "outputs": [
        {
          "output_type": "execute_result",
          "data": {
            "text/plain": [
              "0"
            ]
          },
          "metadata": {
            "tags": []
          },
          "execution_count": 115
        }
      ]
    },
    {
      "cell_type": "code",
      "metadata": {
        "colab": {
          "base_uri": "https://localhost:8080/"
        },
        "id": "fGmJWw93TEBd",
        "outputId": "c5d9652e-3fca-42e0-f795-672bf9570d9a"
      },
      "source": [
        "max_positive_only.iloc[0]"
      ],
      "execution_count": 117,
      "outputs": [
        {
          "output_type": "execute_result",
          "data": {
            "text/plain": [
              "Location     2186\n",
              "sentiment       1\n",
              "Name: 0, dtype: object"
            ]
          },
          "metadata": {
            "tags": []
          },
          "execution_count": 117
        }
      ]
    },
    {
      "cell_type": "code",
      "metadata": {
        "id": "Q0wZsYkYP_tc"
      },
      "source": [
        "df_test['negative'] = df_test.sentiment.apply(lambda x: 1 if(x==1) else -1)"
      ],
      "execution_count": 104,
      "outputs": []
    },
    {
      "cell_type": "code",
      "metadata": {
        "id": "vtBaDxlrQChZ"
      },
      "source": [
        "max_negative=df_test.groupby([\"Location\"]).negative.sum().reset_index()"
      ],
      "execution_count": 105,
      "outputs": []
    },
    {
      "cell_type": "code",
      "metadata": {
        "colab": {
          "base_uri": "https://localhost:8080/"
        },
        "id": "_RSdR5p1Qjtn",
        "outputId": "8bdd5d63-87c7-4f9f-e985-5ebc96b53906"
      },
      "source": [
        "np.argmin(np.array(max_positive['sentiment']))"
      ],
      "execution_count": 106,
      "outputs": [
        {
          "output_type": "execute_result",
          "data": {
            "text/plain": [
              "1"
            ]
          },
          "metadata": {
            "tags": []
          },
          "execution_count": 106
        }
      ]
    },
    {
      "cell_type": "code",
      "metadata": {
        "colab": {
          "base_uri": "https://localhost:8080/"
        },
        "id": "eVX1kWExQmD3",
        "outputId": "a71f56e2-c065-4620-f7a2-69d6da28b2e2"
      },
      "source": [
        "max_negative.iloc[1]"
      ],
      "execution_count": 107,
      "outputs": [
        {
          "output_type": "execute_result",
          "data": {
            "text/plain": [
              "Location    Aalborg, Denmark\n",
              "negative                  -1\n",
              "Name: 1, dtype: object"
            ]
          },
          "metadata": {
            "tags": []
          },
          "execution_count": 107
        }
      ]
    },
    {
      "cell_type": "code",
      "metadata": {
        "colab": {
          "base_uri": "https://localhost:8080/"
        },
        "id": "6kpThlIZQrm3",
        "outputId": "9064c3f9-4c4c-4683-b426-4489b82ad91c"
      },
      "source": [
        "len(df_test.Location.unique())"
      ],
      "execution_count": 112,
      "outputs": [
        {
          "output_type": "execute_result",
          "data": {
            "text/plain": [
              "1079"
            ]
          },
          "metadata": {
            "tags": []
          },
          "execution_count": 112
        }
      ]
    },
    {
      "cell_type": "code",
      "metadata": {
        "colab": {
          "base_uri": "https://localhost:8080/",
          "height": 402
        },
        "id": "kWp0QgK2RA2F",
        "outputId": "4e9e1e8d-5a2b-4321-a2a6-4035de272645"
      },
      "source": [
        "max_negative"
      ],
      "execution_count": 119,
      "outputs": [
        {
          "output_type": "execute_result",
          "data": {
            "text/html": [
              "<div>\n",
              "<style scoped>\n",
              "    .dataframe tbody tr th:only-of-type {\n",
              "        vertical-align: middle;\n",
              "    }\n",
              "\n",
              "    .dataframe tbody tr th {\n",
              "        vertical-align: top;\n",
              "    }\n",
              "\n",
              "    .dataframe thead th {\n",
              "        text-align: right;\n",
              "    }\n",
              "</style>\n",
              "<table border=\"1\" class=\"dataframe\">\n",
              "  <thead>\n",
              "    <tr style=\"text-align: right;\">\n",
              "      <th></th>\n",
              "      <th>Location</th>\n",
              "      <th>negative</th>\n",
              "    </tr>\n",
              "  </thead>\n",
              "  <tbody>\n",
              "    <tr>\n",
              "      <th>0</th>\n",
              "      <td>2186</td>\n",
              "      <td>1</td>\n",
              "    </tr>\n",
              "    <tr>\n",
              "      <th>1</th>\n",
              "      <td>Aalborg, Denmark</td>\n",
              "      <td>-1</td>\n",
              "    </tr>\n",
              "    <tr>\n",
              "      <th>2</th>\n",
              "      <td>Abbotsford BC</td>\n",
              "      <td>1</td>\n",
              "    </tr>\n",
              "    <tr>\n",
              "      <th>3</th>\n",
              "      <td>Agde</td>\n",
              "      <td>1</td>\n",
              "    </tr>\n",
              "    <tr>\n",
              "      <th>4</th>\n",
              "      <td>Aguadilla, P.R.</td>\n",
              "      <td>1</td>\n",
              "    </tr>\n",
              "    <tr>\n",
              "      <th>...</th>\n",
              "      <td>...</td>\n",
              "      <td>...</td>\n",
              "    </tr>\n",
              "    <tr>\n",
              "      <th>1073</th>\n",
              "      <td>warwick ny</td>\n",
              "      <td>1</td>\n",
              "    </tr>\n",
              "    <tr>\n",
              "      <th>1074</th>\n",
              "      <td>wyndham garden silicon valley ,san jose ca.</td>\n",
              "      <td>1</td>\n",
              "    </tr>\n",
              "    <tr>\n",
              "      <th>1075</th>\n",
              "      <td>yakima wa</td>\n",
              "      <td>1</td>\n",
              "    </tr>\n",
              "    <tr>\n",
              "      <th>1076</th>\n",
              "      <td>大阪</td>\n",
              "      <td>1</td>\n",
              "    </tr>\n",
              "    <tr>\n",
              "      <th>1077</th>\n",
              "      <td>東京</td>\n",
              "      <td>2</td>\n",
              "    </tr>\n",
              "  </tbody>\n",
              "</table>\n",
              "<p>1078 rows × 2 columns</p>\n",
              "</div>"
            ],
            "text/plain": [
              "                                         Location  negative\n",
              "0                                            2186         1\n",
              "1                                Aalborg, Denmark        -1\n",
              "2                                   Abbotsford BC         1\n",
              "3                                            Agde         1\n",
              "4                                 Aguadilla, P.R.         1\n",
              "...                                           ...       ...\n",
              "1073                                   warwick ny         1\n",
              "1074  wyndham garden silicon valley ,san jose ca.         1\n",
              "1075                                    yakima wa         1\n",
              "1076                                           大阪         1\n",
              "1077                                           東京         2\n",
              "\n",
              "[1078 rows x 2 columns]"
            ]
          },
          "metadata": {
            "tags": []
          },
          "execution_count": 119
        }
      ]
    },
    {
      "cell_type": "code",
      "metadata": {
        "id": "y5jxen7nTMMk"
      },
      "source": [
        ""
      ],
      "execution_count": null,
      "outputs": []
    }
  ]
}